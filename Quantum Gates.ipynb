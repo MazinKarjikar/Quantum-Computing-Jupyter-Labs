{
 "cells": [
  {
   "cell_type": "markdown",
   "id": "7a8298ea-0465-4e6d-87ee-a4efcb429a97",
   "metadata": {},
   "source": [
    "<div class=\"alert alert-info\">\n",
    "    <h1><strong>BitCamp Hackathon:</strong> Quantum Track </h1>\n",
    "    <h2><strong> Challenge 1 </strong>- Gates</h2>\n",
    "</div>"
   ]
  },
  {
   "cell_type": "code",
   "execution_count": 17,
   "id": "d4538b5a-f5c7-427f-98fb-7069d5fcb05f",
   "metadata": {
    "id": "ILE8h22-Dt9F"
   },
   "outputs": [
    {
     "name": "stdout",
     "output_type": "stream",
     "text": [
      "Libraries imported successfully!\n"
     ]
    }
   ],
   "source": [
    "# Imports!\n",
    "import numpy as np\n",
    "from qiskit import QuantumCircuit, execute, transpile, Aer, IBMQ\n",
    "from qiskit.visualization import *\n",
    "import matplotlib.pyplot as plt\n",
    "print(\"Libraries imported successfully!\")"
   ]
  },
  {
   "cell_type": "markdown",
   "id": "19fc6e70-2531-41fe-a479-1ca1353d6f2b",
   "metadata": {
    "tags": []
   },
   "source": [
    "## A warm up on using Qiskit\n",
    "This notebook will get you up to speed on:\n",
    "* Applying Gates\n",
    "* Using Simulators\n",
    "* Building circuits with functions"
   ]
  },
  {
   "cell_type": "markdown",
   "id": "229fb464-a4ac-4c59-8e0c-bd925cd69877",
   "metadata": {
    "id": "0OiHrhZjDt9J",
    "tags": []
   },
   "source": [
    "### Reminder on using creating circuits!\n",
    "The `QuantumCircuit` class is qiskit's way of designing a quanutm circuit, it takes two inputs: `qubtis` and `classical bits` which tell the circuit how many qubits and classical bits to use.\n",
    "\n",
    "We can build a quantum circuit in qiskit with the following:\n",
    "```python\n",
    "qc = QuantumCircuit(q,c)\n",
    "```"
   ]
  },
  {
   "cell_type": "code",
   "execution_count": 4,
   "id": "b49c6edf-54fb-40ae-ab93-456ddf527ae0",
   "metadata": {
    "colab": {
     "base_uri": "https://localhost:8080/",
     "height": 140
    },
    "executionInfo": {
     "elapsed": 538,
     "status": "ok",
     "timestamp": 1604279108643,
     "user": {
      "displayName": "Akshay Agarwal",
      "photoUrl": "",
      "userId": "05018767796152976477"
     },
     "user_tz": 300
    },
    "id": "nSv7ktpUDt9J",
    "outputId": "0fd7dc62-582b-43d8-af38-03e88c3015d6"
   },
   "outputs": [],
   "source": [
    "# This creates a quantum circuit object\n",
    "qc = QuantumCircuit(1,1)"
   ]
  },
  {
   "cell_type": "markdown",
   "id": "cfc2b96f-ed00-4931-a8c8-2ae2b4787d38",
   "metadata": {},
   "source": [
    "### Drawing and Displaying Circuits\n",
    "\n",
    "Qiskit has a function `circ.draw()` for drawing a diagram of circuits. We can also specify the output type, here we choose to use matplotlib `output=\"mpl\"`.\n",
    "\n",
    "Together we can visualise our circuit with: `circ.draw(output=\"mpl\")`"
   ]
  },
  {
   "cell_type": "code",
   "execution_count": 5,
   "id": "af37d554-90eb-4f73-9f25-560f98fbdd80",
   "metadata": {},
   "outputs": [
    {
     "data": {
      "image/png": "[encoded data removed]",
      "text/plain": [
       "<Figure size 103.426x144.48 with 1 Axes>"
      ]
     },
     "execution_count": 5,
     "metadata": {},
     "output_type": "execute_result"
    }
   ],
   "source": [
    "# This prints out a diagram of the circuit, the \"mpl\" makes it look pretty!\n",
    "qc.draw(output=\"mpl\")"
   ]
  },
  {
   "cell_type": "markdown",
   "id": "cb17aa48-3277-416d-8e0b-cd1c08cda43f",
   "metadata": {
    "id": "qQ1MRyu3Dt9O"
   },
   "source": [
    "### Adding gates to a quantum circuit\n",
    "This can be done by calling the `qc.gate(qubit)` command. \n",
    "Here the `gate` refers to the gate type, and the `qubit` refers to the qubit (or qubits) on which the gate is acting"
   ]
  },
  {
   "cell_type": "code",
   "execution_count": 17,
   "id": "a6b91903-10e9-49c2-8208-23432a6d6bc2",
   "metadata": {
    "colab": {
     "base_uri": "https://localhost:8080/",
     "height": 140
    },
    "executionInfo": {
     "elapsed": 469,
     "status": "ok",
     "timestamp": 1604279131917,
     "user": {
      "displayName": "Akshay Agarwal",
      "photoUrl": "",
      "userId": "05018767796152976477"
     },
     "user_tz": 300
    },
    "id": "9QYYCbmODt9O",
    "outputId": "3264bb79-1e65-4867-aba5-43adda2661ed"
   },
   "outputs": [
    {
     "data": {
      "image/png": "[encoded data removed]",
      "text/plain": [
       "<Figure size 133.526x144.48 with 1 Axes>"
      ]
     },
     "execution_count": 17,
     "metadata": {},
     "output_type": "execute_result"
    }
   ],
   "source": [
    "# Adding a NOT gate (aka an X gate) to qubit 0\n",
    "qc.x(0)\n",
    "qc.draw(output=\"mpl\")"
   ]
  },
  {
   "cell_type": "markdown",
   "id": "7b38b38f-a5a9-4b64-a620-a92856706c6f",
   "metadata": {
    "id": "FXW3ckDyDt9S",
    "tags": []
   },
   "source": [
    "<a id=\"q1a\"></a>\n",
    "# Practice: Implementing single qubit gates\n",
    "## Single Qubit Gates\n",
    "\n",
    "### *The X Gate* \n",
    "The X gate rotates the state vector by $\\pi$ radians about the x-axis on the bloch sphere.\n",
    "\n",
    "The syntax for an X gate is: `qc.x(target)` where `qc` is an initialized `QuantumCircuit` and `target` is the number of the qubit where you would like to apply the gate.\n",
    "\n",
    "**Block 1:**\n",
    "Initialize a new circuit and add an X gate to it, then draw it."
   ]
  },
  {
   "cell_type": "code",
   "execution_count": 6,
   "id": "330d1c5c-215f-4c2c-a864-a2439a6e3730",
   "metadata": {
    "id": "58x_yexwhnTm"
   },
   "outputs": [
    {
     "data": {
      "image/png": "[encoded data removed]",
      "text/plain": [
       "<Figure size 133.526x144.48 with 1 Axes>"
      ]
     },
     "execution_count": 6,
     "metadata": {},
     "output_type": "execute_result"
    }
   ],
   "source": [
    "qc = QuantumCircuit(1,1)\n",
    "qc.x(0)\n",
    "qc.draw(output=\"mpl\")"
   ]
  },
  {
   "cell_type": "markdown",
   "id": "90c5d154-b7ec-4383-b762-9cd37b5dfc4c",
   "metadata": {
    "id": "8o34NMgogUOF"
   },
   "source": [
    "<a id=\"q1b\"></a>\n",
    "\n",
    "### *The Y Gate* \n",
    "\n",
    "The Y gate rotates the state vector by $\\pi$ radians about the y-axis on the bloch sphere.\n",
    "\n",
    "The syntax for a Y gate is: `qc.y(target)` where `qc` is an initialized `QuantumCircuit` and `target` is the number of the qubit where you would like to apply the gate.\n",
    "\n",
    "**Block 2:**\n",
    "Initialize a new circuit and add a Y gate to it, then draw it."
   ]
  },
  {
   "cell_type": "code",
   "execution_count": 7,
   "id": "0ec5c046-fd86-44fe-bf25-68d0fac170a5",
   "metadata": {
    "id": "AwKqITRfgp8K"
   },
   "outputs": [
    {
     "data": {
      "image/png": "[encoded data removed]",
      "text/plain": [
       "<Figure size 133.526x144.48 with 1 Axes>"
      ]
     },
     "execution_count": 7,
     "metadata": {},
     "output_type": "execute_result"
    }
   ],
   "source": [
    "qc2 = QuantumCircuit(1,1)\n",
    "qc2.y(0)\n",
    "qc2.draw(output=\"mpl\")\n"
   ]
  },
  {
   "cell_type": "markdown",
   "id": "8f207408-5305-4bb7-ba98-89a964df00d7",
   "metadata": {
    "id": "M6JzISQwhIwV",
    "tags": []
   },
   "source": [
    "<a id=\"q1c\"></a>\n",
    "### The Z Gate\n",
    "\n",
    "The Z gate rotates the state vector by $\\pi$  radians about the z-axis on the bloch sphere.\n",
    "\n",
    "The syntax for a Z gate is: `qc.z(target)` where `qc` is an initialized `QuantumCircuit` and `target` is the number of the qubit where you would like to apply the gate.\n",
    "\n",
    "**BLOCK 3:**\n",
    "Initialize a new circuit and add a Z gate to it, then draw it."
   ]
  },
  {
   "cell_type": "code",
   "execution_count": 9,
   "id": "53b8b080-d9e8-4714-9cbb-939da69fb376",
   "metadata": {
    "id": "9cZAPnu3hU-8"
   },
   "outputs": [
    {
     "data": {
      "image/png": "[encoded data removed]",
      "text/plain": [
       "<Figure size 133.526x144.48 with 1 Axes>"
      ]
     },
     "execution_count": 9,
     "metadata": {},
     "output_type": "execute_result"
    }
   ],
   "source": [
    "qc3 = QuantumCircuit(1,1)\n",
    "qc3.z(0)\n",
    "qc3.draw(output=\"mpl\")"
   ]
  },
  {
   "cell_type": "markdown",
   "id": "1dddc739-493f-485d-a7ef-0f501791ef8e",
   "metadata": {},
   "source": [
    "<a id=\"q1c\"></a>\n",
    "### The H Gate\n",
    "\n",
    "The H gate rotates the state vector by $\\pi$  radians about the xz-diagonal axis on the bloch sphere.\n",
    "\n",
    "We will discuss the implications of this gate in workshop 2, for now we will only focus on gates as rotations of the Bloch sphere.\n",
    "\n",
    "The syntax for a H gate is: `qc.h(target)` where `qc` is an initialized `QuantumCircuit` and `target` is the number of the qubit where you would like to apply the gate.\n",
    "\n",
    "**BLOCK 4:**\n",
    "Initialize a new circuit and add a H gate to it, then draw it."
   ]
  },
  {
   "cell_type": "code",
   "execution_count": 10,
   "id": "47bcc69a-ea40-4faa-a979-ef4bcc5eb13b",
   "metadata": {},
   "outputs": [
    {
     "data": {
      "image/png": "[encoded data removed]",
      "text/plain": [
       "<Figure size 133.526x144.48 with 1 Axes>"
      ]
     },
     "execution_count": 10,
     "metadata": {},
     "output_type": "execute_result"
    }
   ],
   "source": [
    "qc4 = QuantumCircuit(1,1)\n",
    "qc4.h(0)\n",
    "qc4.draw(output = \"mpl\")"
   ]
  },
  {
   "cell_type": "markdown",
   "id": "3ae275c0-4c99-4a62-ba21-d8bd4c88c204",
   "metadata": {
    "tags": []
   },
   "source": [
    "### The Measurement Gate\n",
    "\n",
    "The Measurement gate tells the backend when it is time to check the state of our qubits.\n",
    "For the majority of use cases it is easiest to apply `qc.measure_all()` which puts a measurement gate on every qubit. \n",
    "\n",
    "*It is possible to specify a measurement on specific qubits to read out to specific classical bits with `qc.measure([qubits],[classical])`, but we will learn that when it becomes necessary*\n",
    "\n",
    "**BLOCK 5:**\n",
    "Initialize a new circuit and add measurement gates to it, then draw it."
   ]
  },
  {
   "cell_type": "markdown",
   "id": "3056493d-7f84-45bf-9518-04e9ee5037e7",
   "metadata": {},
   "source": [
    "qc5 = QuantumCircuit(1,1)\n",
    "qc5.measure_all()\n",
    "qc5.draw(\"mpl\")"
   ]
  },
  {
   "cell_type": "markdown",
   "id": "db66bb78-7a7b-45d4-884e-76b573b41943",
   "metadata": {
    "tags": []
   },
   "source": [
    "# Simulating circuits\n",
    "\n",
    "## While there are a few simulators to choose from, we will only focus on the QASM simulator for this Hackathon:\n",
    "\n",
    "The `qasm_simulator` : a Noisy, realistic comparison to a current real quantum computers.\n",
    "\n",
    "Using a simulator has 3 steps:\n",
    "1. Creating the backend\n",
    "``` python\n",
    "qsim = Aer.get_backend('qasm_simulator')\n",
    "```\n",
    "2. Creating a job: tells the backend to run your circuit\n",
    "``` python\n",
    "job = execute(qc, backend=qsim, shots=1024)\n",
    "```\n",
    "3. Pulling the results from the job\n",
    "``` python \n",
    "result = job.result()\n",
    "```\n",
    "\n",
    "Once the result of the simulation has been recieved we normally like to visualize the counts in a histogram.\n",
    "This involves two steps:\n",
    "1. Getting the counts\n",
    "```python\n",
    "counts = result.get_counts(qc) \n",
    "```\n",
    "2. Plotting the counts\n",
    "``` python\n",
    "plot_histogram(counts)\n",
    "```"
   ]
  },
  {
   "cell_type": "markdown",
   "id": "54a63d8d-1a5e-4474-9cac-0ca0b561ca11",
   "metadata": {},
   "source": [
    "**BLOCK 6:** Create a new 1 qubit, 1 classical bit quantum circuit, add add the X,Y,H, and Z gates and simulate the results"
   ]
  },
  {
   "cell_type": "code",
   "execution_count": 37,
   "id": "4967df9b-8af2-41f3-bc4a-abe2eccc0e46",
   "metadata": {},
   "outputs": [
    {
     "data": {
      "image/png": "[encoded data removed]",
      "text/plain": [
       "<Figure size 504x360 with 1 Axes>"
      ]
     },
     "execution_count": 37,
     "metadata": {},
     "output_type": "execute_result"
    }
   ],
   "source": [
    "qc6 = QuantumCircuit(1,1)\n",
    "qc6.x(0)\n",
    "qc6.y(0)\n",
    "qc6.z(0)\n",
    "qc6.h(0)\n",
    "qc6.draw(\"mpl\")\n",
    "qc6.measure_all()\n",
    "\n",
    "qsim = Aer.get_backend('qasm_simulator')\n",
    "job = execute(qc6, backend=qsim, shots=1024)\n",
    "result = job.result()\n",
    "\n",
    "counts = result.get_counts(qc6)\n",
    "plot_histogram(counts)"
   ]
  },
  {
   "cell_type": "markdown",
   "id": "c3ffdcdd-64d6-47c8-81d4-37ec59dc26b2",
   "metadata": {},
   "source": [
    "# That's the fundamentals of qiskit!\n",
    "\n",
    "Now let's flex our python skills\n",
    "\n",
    "When we make a `qc = QuantumCircuit(1,1)` object, any gate applied to the quantum circuit will alter the original `qc` object. This allows us a very pythonic way to create quantum circuits using functions:\n",
    "\n",
    "``` python\n",
    "def circuit_altering_function(qc, qubit):\n",
    "    qc.x(qubit)\n",
    "```"
   ]
  },
  {
   "cell_type": "markdown",
   "id": "0698c7d9-ac3d-4a09-b48e-4d648128f033",
   "metadata": {},
   "source": [
    "**BLOCK 7:** Define a function that applies an X gate to a `qc` argument "
   ]
  },
  {
   "cell_type": "code",
   "execution_count": 38,
   "id": "d9f1d91a-bac9-4a5e-b003-8d39bf5706dd",
   "metadata": {},
   "outputs": [],
   "source": [
    "def apply_x(qc, qubit):\n",
    "    qc.x(qubit)"
   ]
  },
  {
   "cell_type": "markdown",
   "id": "41d9f63d-eb02-4410-91e0-d4f93044f9e6",
   "metadata": {},
   "source": [
    "**BLOCK 8:** Define a function that applies a Y gate to a `qc` argument "
   ]
  },
  {
   "cell_type": "code",
   "execution_count": 39,
   "id": "54dac08c-0ee3-4a4a-9568-41cb8f1faa64",
   "metadata": {},
   "outputs": [],
   "source": [
    "def apply_y(qc, qubit):\n",
    "    qc.y(qubit)"
   ]
  },
  {
   "cell_type": "markdown",
   "id": "597e28b0-5c98-4d87-82a7-546ff2b57bd1",
   "metadata": {},
   "source": [
    "**BLOCK 9:** Define a function that applies a Z gate to a `qc` argument "
   ]
  },
  {
   "cell_type": "code",
   "execution_count": 60,
   "id": "11160728-8b80-4c86-8003-5a26cf42c5c0",
   "metadata": {},
   "outputs": [],
   "source": [
    "def apply_z(qc, qubit):\n",
    "    qc.z(qubit)"
   ]
  },
  {
   "cell_type": "markdown",
   "id": "284b4214-869e-4a25-a2d4-3524c151e903",
   "metadata": {},
   "source": [
    "**BLOCK 10:** Define a function that applies a H gate to a `qc` argument "
   ]
  },
  {
   "cell_type": "code",
   "execution_count": 51,
   "id": "d8e0212d-99a6-4ad3-9c65-da96901d33d1",
   "metadata": {},
   "outputs": [],
   "source": [
    "def apply_h(qc, qubit):\n",
    "    qc.h(qubit)"
   ]
  },
  {
   "cell_type": "markdown",
   "id": "927f485e-04f4-4f47-89fb-4307a02c4801",
   "metadata": {},
   "source": [
    "**BLOCK 11:** Define a function that applies a measurement gate to a `qc` argument "
   ]
  },
  {
   "cell_type": "code",
   "execution_count": 52,
   "id": "6196cdcb-dc49-4196-85f5-4c2f9fc9ab6f",
   "metadata": {},
   "outputs": [],
   "source": [
    "def measure(qc):\n",
    "    qc.measure_all()"
   ]
  },
  {
   "cell_type": "markdown",
   "id": "5d6eca93-430d-4a9b-907d-8b4aa255c6ba",
   "metadata": {},
   "source": [
    "**BLOCK 12:** Define a function that takes in a `qc` argument, requests a backend, runs the job and returns the result"
   ]
  },
  {
   "cell_type": "code",
   "execution_count": 53,
   "id": "2f0a40d6-52b9-4bd0-b780-0bd0d1eab535",
   "metadata": {},
   "outputs": [],
   "source": [
    "def return_result(qc):\n",
    "    qsim = Aer.get_backend('qasm_simulator')\n",
    "    job = execute(qc, backend=qsim, shots=1024)\n",
    "    result = job.result()\n",
    "    return result"
   ]
  },
  {
   "cell_type": "markdown",
   "id": "e6612036-0eeb-43fc-8375-2af80190f28b",
   "metadata": {},
   "source": [
    "**BLOCK 13:** Define a function that takes in a `result` object and plots a histogram.\n",
    "\n",
    "(Note you will have to return the result of `plot_histogram`)"
   ]
  },
  {
   "cell_type": "code",
   "execution_count": 75,
   "id": "361a9761-3bfa-454a-8339-43f3aff65632",
   "metadata": {},
   "outputs": [],
   "source": [
    "def plot_histo(result, qc):\n",
    "    counts = result.get_counts(qc)\n",
    "    return plot_histogram(counts)"
   ]
  },
  {
   "cell_type": "markdown",
   "id": "2d7222be-62d7-4ff8-89a0-53e413ef95c1",
   "metadata": {},
   "source": [
    "### Put it all together!\n",
    "\n",
    "**BLOCK 14:**\n",
    "Create a function that takes a python list of `(\"gate\", qubit)` tuples of type `str` and `int` respectively eg: `[(\"H\",1),(\"X\",2),(\"Y\",0),(\"Z\",1)]`, creates a quantum circuit of the necessary size (think carefully about how  the QuantumCircuit needs to be initialized), applies each of the gates using the functions above, and plots a histogram of the measured results."
   ]
  },
  {
   "cell_type": "code",
   "execution_count": 86,
   "id": "44217b67-d707-4eeb-bf9b-97a540699e74",
   "metadata": {},
   "outputs": [],
   "source": [
    "def circuit_builder(q_list):\n",
    "    a = 0\n",
    "    for j in range(len(q_list)):\n",
    "        if(q_list[j][1] > a):\n",
    "            a = q_list[j][1]\n",
    "    qc = QuantumCircuit(a+1,a+1)\n",
    "    for i in range(len(q_list)):\n",
    "        if(q_list[i][0] == \"H\"):\n",
    "            apply_h(qc, q_list[i][1])\n",
    "        if(q_list[i][0] == \"Z\"):\n",
    "            apply_z(qc, q_list[i][1])\n",
    "        if(q_list[i][0] == \"X\"):\n",
    "            apply_x(qc, q_list[i][1])\n",
    "        else:\n",
    "            apply_y(qc, q_list[i][1])\n",
    "    measure(qc)\n",
    "    qsim = Aer.get_backend('qasm_simulator')\n",
    "    job = execute(qc, backend=qsim, shots=1024)\n",
    "    result = job.result()\n",
    "\n",
    "    counts = result.get_counts(qc)\n",
    "    print(counts)\n",
    "    plot_histogram(counts)\n",
    "    \n",
    "    \n",
    "        "
   ]
  },
  {
   "cell_type": "code",
   "execution_count": 89,
   "id": "0cfc49e8-afcc-439b-adbc-a6e0f9a18c7c",
   "metadata": {},
   "outputs": [
    {
     "name": "stdout",
     "output_type": "stream",
     "text": [
      "{'101 000': 482, '111 000': 542}\n"
     ]
    }
   ],
   "source": [
    "# Test case:\n",
    "q_list = [(\"H\",1),(\"X\",2),(\"Y\",0),(\"Z\",1)]\n",
    "circuit_builder(q_list) # Example function (it can be called whatever you like)"
   ]
  },
  {
   "cell_type": "code",
   "execution_count": 90,
   "id": "9d82bd35-62f9-4334-a558-368600fa0ca6",
   "metadata": {},
   "outputs": [
    {
     "data": {
      "image/png": "[encoded data removed]",
      "text/plain": [
       "<Figure size 504x360 with 1 Axes>"
      ]
     },
     "execution_count": 90,
     "metadata": {},
     "output_type": "execute_result"
    }
   ],
   "source": [
    "plot_histogram({'111 000': 528, '101 000': 496})"
   ]
  },
  {
   "cell_type": "markdown",
   "id": "0886543c-91de-4ef8-a602-1ded55164e4b",
   "metadata": {
    "tags": []
   },
   "source": [
    "## Just for fun, Run on a real quantum computer! *(NOT REQUIRED)*\n",
    "\n",
    "First we need to find the least busy backend:\n",
    "```python\n",
    "IBMQ.load_account()\n",
    "provider = IBMQ.get_provider(hub='ibm-q')\n",
    "backend = least_busy(provider.backends(filters=lambda x: x.configuration().n_qubits >= 2 \n",
    "                                       and not x.configuration().simulator \n",
    "                                       and x.status().operational==True))\n",
    "print(\"least busy backend: \", backend)\n",
    "```\n",
    "\n",
    "Next we can send the job to be run\"\n",
    "``` python\n",
    "job = execute(qc, backend=backend, shots=100)\n",
    "result = job.result()\n",
    "```\n",
    "\n",
    "Lastly, we can again plot the results in the same way:\n",
    "\n",
    "``` python\n",
    "counts = result.get_counts(qc)\n",
    "plot_histogram(counts)\n",
    "```"
   ]
  },
  {
   "cell_type": "code",
   "execution_count": null,
   "id": "642df936-6772-4cb3-9d9b-abec7a8c845d",
   "metadata": {},
   "outputs": [],
   "source": [
    "# EXTRA BLOCK"
   ]
  },
  {
   "cell_type": "markdown",
   "id": "c88a940b-3b45-46c3-b14f-be00771686c3",
   "metadata": {
    "jp-MarkdownHeadingCollapsed": true,
    "tags": []
   },
   "source": [
    "### © 2022 The Coding School\n",
    "\n",
    "**All rights reserved**\n",
    "\n",
    "*Use of this activity is for personal use only. Copying, reproducing, distributing, posting or sharing this activity in any manner with any third party are prohibited under the terms of this registration. All rights not specifically licensed under the registration are reserved.*"
   ]
  }
 ],
 "metadata": {
  "kernelspec": {
   "display_name": "Qiskit v0.35.0 (ipykernel)",
   "language": "python",
   "name": "python3"
  },
  "language_info": {
   "codemirror_mode": {
    "name": "ipython",
    "version": 3
   },
   "file_extension": ".py",
   "mimetype": "text/x-python",
   "name": "python",
   "nbconvert_exporter": "python",
   "pygments_lexer": "ipython3",
   "version": "3.8.13"
  },
  "widgets": {
   "application/vnd.jupyter.widget-state+json": {
    "state": {},
    "version_major": 2,
    "version_minor": 0
   }
  }
 },
 "nbformat": 4,
 "nbformat_minor": 5
}
